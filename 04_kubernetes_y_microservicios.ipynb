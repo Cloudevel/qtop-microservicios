{
 "cells": [
  {
   "cell_type": "markdown",
   "metadata": {},
   "source": [
    "# Microservicios y *Kubernetes*."
   ]
  },
  {
   "cell_type": "markdown",
   "metadata": {},
   "source": [
    "[*Kubernetes*](https://kubernetes.io/es/) (*K8s*) es una plataforma de código abierto para automatizar la implementación, el escalado y la administración de **aplicaciones en contenedores**. "
   ]
  },
  {
   "cell_type": "markdown",
   "metadata": {},
   "source": [
    "## Contenedores."
   ]
  },
  {
   "cell_type": "markdown",
   "metadata": {},
   "source": [
    "Un contenedor es una carga de ejecución de codigo en la que los procesos y bibliotecas necesarias para funcionar se encuentran aislados del sistema anfitrión.\n",
    "\n",
    "\n",
    "<img src=\"img/contenedores.png\" width=\"35%\">"
   ]
  },
  {
   "cell_type": "markdown",
   "metadata": {},
   "source": [
    "### Imágenes de contenedores.\n",
    "\n",
    "Los contendores son creados a partir de imágenes de las cuales son instanciados. Dichas imágenes pueden ser guardadas y accedidas en un *registry*."
   ]
  },
  {
   "cell_type": "markdown",
   "metadata": {},
   "source": [
    "### Sistemas de archivos por capas.\n",
    "\n",
    "Cuando un contenedor es *instanciado* por primera vez, éste es idéntico a la imagen de origen y se le asigna un \"volumen\". A cada operación de escritura en el volumen se le asigna un *hash* único que es registrado de tal forma que dichas operaciones puedan ser reconstruidas desde la imagen original.\n",
    "\n",
    "https://docs.docker.com/storage/storagedriver/"
   ]
  },
  {
   "cell_type": "markdown",
   "metadata": {},
   "source": [
    "### Volúmenes.\n",
    "\n",
    "Debido a la naturaleza efímera de los contenedores, no se recomienda utilizar sus volúmenes como un medio de almacenamiento persistente, pero es posible relacionar y \"montar\" un volumen externo a una ruta dentro del sistema de archivos del contenedor. "
   ]
  },
  {
   "cell_type": "markdown",
   "metadata": {},
   "source": [
    "### Interfaces de red y envío de puertos.\n",
    "\n",
    "Cada contenedor cuenta con una interfaz de red virtualizada y un stack *TCP/IP*. La carga de ejecución contenerizada puede transmitir de forma interna mediante [puertos *TCP/UDP*](https://es.wikipedia.org/wiki/Anexo:Puertos_de_red) en *localhost*. \n",
    "\n",
    "La acción de enlazar el puerto interno de un contenedor a un puerto del sistema anfitrión se conoce como reenvío de puertos y es la forma en la que los notenedores pueden exponer sus servicios."
   ]
  },
  {
   "cell_type": "markdown",
   "metadata": {},
   "source": [
    "### Redes virtuales.\n",
    "\n",
    "En vista de que cada contenedor tiene una interfaz de red, es posible desplegar redes virtualizadas bajo distintas configuraciones mendiante [controladores específicos](https://docs.docker.com/network/#network-drivers)."
   ]
  },
  {
   "cell_type": "markdown",
   "metadata": {},
   "source": [
    "## Contenedores y microservicios.\n",
    "\n",
    "Ls contenedores son una herramienta cuyo objetivo es el desarrollo, despliegue, puesta en marcha y publicación de aplicaciones de software. \n",
    "\n",
    "A partir de lo anterior, los contenedores pueden adaptarse al [patrón de  microservicios](https://www.martinfowler.com/articles/microservices.html), facilitando el despliegue de sistemas cuyos componentes son:\n",
    "* Modulares\n",
    "* Interoperables.\n",
    "* Desacoplados."
   ]
  },
  {
   "cell_type": "markdown",
   "metadata": {},
   "source": [
    "## Orquestación de contenedores."
   ]
  },
  {
   "cell_type": "markdown",
   "metadata": {},
   "source": [
    "Un orquestador es un sistema que despliega y gestiona aplicaciones, permitiendo:\n",
    "\n",
    "* Desplegar una o varias aplicaciones.\n",
    "* Escalar los recursos asignados en función de los requerimientos.\n",
    "* Monitorear y gestionar la \"salud\" de un sistema y sus componentes.\n",
    "* Realizar *rollbacks* de forma segura sin pérdidas de rendimiento.\n",
    "\n",
    "En la siguiente liga, la documentación oficial especifica lo que *Kubernetes* no es: https://kubernetes.io/es/docs/concepts/overview/what-is-kubernetes/#lo-que-kubernetes-no-es"
   ]
  },
  {
   "cell_type": "markdown",
   "metadata": {},
   "source": [
    "## Arquitectura de *Kubernertes*.\n",
    "\n",
    "*Kubernetes* fue ideado para orquestar aplicaciones contenerizadas dentro de un *cluster* distribuído y escalable, por lo que se pueden identificar dos ámbitos dentro de su arquitectura.\n",
    "\n",
    "* El plano de control, que corresponde a todos aquellos componentes que gestionan al cluster.\n",
    "* Los nodos son máquinas (físicas o virtuales) que contienen a un gestor de contenedores y a un  agente llamado [*kubelet*](https://kubernetes.io/docs/reference/command-line-tools-reference/kubelet/). Los nodos se encargan de las operaciones de cómputo del cluster."
   ]
  },
  {
   "cell_type": "markdown",
   "metadata": {},
   "source": [
    "![componentes-k8s.png](img/componentes-k8s.png)\n",
    "\n",
    "Fuente: https://kubernetes.io/docs/concepts/overview/components/"
   ]
  },
  {
   "cell_type": "markdown",
   "metadata": {},
   "source": [
    "### La *API* de *Kubernets*.\n",
    "\n",
    "El componente primordial de *Kubernetes* es una *API REST* que expone diversos servicios de administración y de control de un cluster de *Kubernetes*.\n",
    "\n",
    "Aún cuando es posible acceder a la *API* mediante herramientas tales como [```curl```](https://curl.haxx.se/), lo más común es usar la *CLI* mediante el comando ```kubectl```."
   ]
  },
  {
   "cell_type": "markdown",
   "metadata": {},
   "source": [
    "### El plano de control.\n",
    "\n",
    "El plano de control consiste en un conjunto de componentes capaces de gestionar los nodos de un cluster de *Kubernetes*. El cluster puede estar conformado por uno o más nodos.\n",
    "\n",
    "Además del servidor de la *API* (kube-api-server), el plano de control está compuesto por:\n",
    "\n",
    "* Un data store basado en [*etcd*](https://etcd.io/).\n",
    "* Un gestor del cluster (*kube-controller-manager*).\n",
    "* Un gestor de acceso a la nube (*cloud-controller-manager*)\n",
    "* Un planificador (*kube-scheduler*).\n",
    "\n",
    "El plano de control es el encargado de:\n",
    "* Gestionar los nodos del clustes.\n",
    "* Administrar los recursos de red.\n",
    "* Balancear las cargas de trabajo.\n",
    "* Exponer los servicios mediante puertos.\n",
    "* Gestionar el ciclo de vida de los objetos."
   ]
  },
  {
   "cell_type": "markdown",
   "metadata": {},
   "source": [
    "### El panel de control.\n",
    "\n",
    "Para facilitar las labores de gestión del cluster, *Kubernetes* cuenta con un panel de control (*dashboard*) con una interfaz web como componente adicional.\n",
    "\n",
    "https://kubernetes.io/docs/tasks/access-application-cluster/web-ui-dashboard/."
   ]
  },
  {
   "cell_type": "markdown",
   "metadata": {},
   "source": [
    "## Los *pods*.\n",
    "\n",
    "Un *pod* es la unidad básica de cómputo de *Kubernetes* y se describe mediante un archivo llamado ```pod.yaml```. En dichos archivos es posible definir:\n",
    "\n",
    "* Contenedores.\n",
    "* Redes.\n",
    "* Volúmenes.\n",
    "* Etiquetas e identificadores.\n",
    "\n",
    "De igual forma que los contenedores de *Docker* los *pods* son objetos efímeros, los cuales son desechados una vez que realizan el objetivo para el que fueron creados.\n",
    "\n",
    "La referencia de los *pods* se puede consultar en:\n",
    "\n",
    "https://kubernetes.io/docs/concepts/workloads/pods/"
   ]
  },
  {
   "cell_type": "markdown",
   "metadata": {},
   "source": [
    "### Estructura de un *pod*.\n",
    "\n",
    "Un *pod* es una carga de trabajo que puede albergar a uno o varios contendores dentro de un *localhost* interno. Los contenedores dentro de un pod interactúan entre si por medio de los puertos *UTP/UDP* y el servicio puede ser expuesto mediante una interfaz de red. \n",
    "\n",
    "<img src=\"img/pod.png\" width=\"50%\">"
   ]
  },
  {
   "cell_type": "markdown",
   "metadata": {},
   "source": [
    "Cada *pod* puede ser considerado como un *microservicio*."
   ]
  },
  {
   "cell_type": "markdown",
   "metadata": {},
   "source": [
    "### Escalado de servicios.\n",
    "\n",
    "El plano de control se encarga de consolidar los recursos de cómputo y memoria de el o los clusters a los que accede, creando una gran computadora virtual, en la que gestionará un número indeterminado de *pods*. El balanceo de carga y el monitoreo de la salud del cluster también es una de las funcionalidades del plano de control.\n",
    "\n",
    "<img src=\"img/cluster.png\" width=\"75%\">"
   ]
  },
  {
   "cell_type": "markdown",
   "metadata": {},
   "source": [
    "### Ciclo de vida de un *pod*.\n",
    "\n",
    "Un *pod* experimenta varias fases desde el momento que es creado y hasta que es desechado.\n",
    "\n",
    "* ```Pending```\n",
    "* ```Running```\n",
    "* ```Succeeded```\n",
    "* ```Failed```\n",
    "\n",
    "https://kubernetes.io/docs/concepts/workloads/pods/pod-lifecycle/"
   ]
  },
  {
   "cell_type": "markdown",
   "metadata": {},
   "source": [
    "## Cargas de trabajo (*workloads*)."
   ]
  },
  {
   "cell_type": "markdown",
   "metadata": {},
   "source": [
    "\n",
    "Las cargas de trabajo son procesos que se ejecutan dentro de un clsuter de nodos.\n",
    "​\n",
    "* *Pods*.\n",
    "* Controladores."
   ]
  },
  {
   "cell_type": "markdown",
   "metadata": {},
   "source": [
    "### Controladores.\n",
    "Los controladores son cargas de trabajo que implementan uno o varios *pods* y son configurados para cumplir porpósitos específicos.\n",
    "\n",
    "https://kubernetes.io/es/docs/concepts/workloads/controllers/"
   ]
  },
  {
   "cell_type": "markdown",
   "metadata": {},
   "source": [
    "* [```ReplicaSet```](https://kubernetes.io/es/docs/concepts/workloads/controllers/replicaset/) es el controlador base, el cual permite crear un número específico de pods disponibles para su uso.\n",
    "* [```Deployment```](https://kubernetes.io/es/docs/concepts/workloads/controllers/deployment/) un Deployment proporciona actualizaciones declarativas para los Pods y los ReplicaSets.\n",
    "* [```StatefulSet```](https://kubernetes.io/es/docs/concepts/workloads/controllers/statefulset/) un StatefulSet es el objeto de la API workload que se usa para gestionar aplicaciones con estado.\n",
    "* [```DaemonSet```](https://kubernetes.io/es/docs/concepts/workloads/controllers/daemonset/) un DaemonSet garantiza que todos (o algunos) de los nodos ejecuten una copia de un Pod. \n",
    "* [```Job```](https://kubernetes.io/es/docs/concepts/workloads/controllers/jobs-run-to-completion/) crea uno o más Pods y se asegura de que un número específico de ellos termina de forma satisfactoria.\n",
    "* [```CronJob```](https://kubernetes.io/es/docs/concepts/workloads/controllers/cron-jobs/) un Cron Job ejecuta tareas, Jobs, a intervalos regulares."
   ]
  },
  {
   "cell_type": "markdown",
   "metadata": {},
   "source": [
    "## Servicios."
   ]
  },
  {
   "cell_type": "markdown",
   "metadata": {},
   "source": [
    "Un *Service* permite distribruir las peticiones de la aplicación a los *pods*.\n",
    "\n",
    "La labor de un *Service* es dienteficarf las *IP* de cada *Pod* y en función de ello, distribuir el trabajo y obtener las respuestas."
   ]
  },
  {
   "cell_type": "markdown",
   "metadata": {},
   "source": [
    "<p style=\"text-align: center\"><a rel=\"license\" href=\"http://creativecommons.org/licenses/by/4.0/\"><img alt=\"Licencia Creative Commons\" style=\"border-width:0\" src=\"https://i.creativecommons.org/l/by/4.0/80x15.png\" /></a><br />Esta obra está bajo una <a rel=\"license\" href=\"http://creativecommons.org/licenses/by/4.0/\">Licencia Creative Commons Atribución 4.0 Internacional</a>.</p>\n",
    "<p style=\"text-align: center\">&copy; José Luis Chiquete Valdivieso. 2022.</p>"
   ]
  }
 ],
 "metadata": {
  "kernelspec": {
   "display_name": "Python 3 (ipykernel)",
   "language": "python",
   "name": "python3"
  },
  "language_info": {
   "codemirror_mode": {
    "name": "ipython",
    "version": 3
   },
   "file_extension": ".py",
   "mimetype": "text/x-python",
   "name": "python",
   "nbconvert_exporter": "python",
   "pygments_lexer": "ipython3",
   "version": "3.9.7"
  }
 },
 "nbformat": 4,
 "nbformat_minor": 2
}
