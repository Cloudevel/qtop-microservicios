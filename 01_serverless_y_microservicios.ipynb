{
 "cells": [
  {
   "cell_type": "markdown",
   "metadata": {
    "slideshow": {
     "slide_type": "slide"
    }
   },
   "source": [
    "# Serverless, lambdas y microservicios."
   ]
  },
  {
   "cell_type": "markdown",
   "metadata": {
    "slideshow": {
     "slide_type": "slide"
    }
   },
   "source": [
    "Uno de los obstáculos para los desarrolladores de software tiene que ver con el aprovisionamiento de una infraestructura adecuada, capaz de ser:"
   ]
  },
  {
   "cell_type": "markdown",
   "metadata": {
    "slideshow": {
     "slide_type": "subslide"
    }
   },
   "source": [
    "* Simple.\n",
    "* Escalable.\n",
    "* Autónoma.\n",
    "* Autogestionada.\n",
    "* Modular."
   ]
  },
  {
   "cell_type": "markdown",
   "metadata": {
    "slideshow": {
     "slide_type": "slide"
    }
   },
   "source": [
    "## Conceptos relacionados."
   ]
  },
  {
   "cell_type": "markdown",
   "metadata": {
    "slideshow": {
     "slide_type": "subslide"
    }
   },
   "source": [
    "* Idempotencia.\n",
    "* Desacoplamiento.\n",
    "* Encapsulamiento."
   ]
  },
  {
   "cell_type": "markdown",
   "metadata": {
    "slideshow": {
     "slide_type": "slide"
    }
   },
   "source": [
    "## Funciones y lambdas."
   ]
  },
  {
   "cell_type": "markdown",
   "metadata": {
    "slideshow": {
     "slide_type": "subslide"
    }
   },
   "source": [
    "### Funciones puras.\n",
    "\n",
    "Son aquellas funciones que regresan el mismo resultado si se ingresan los mismos argumentos.\n",
    "\n",
    "* No causan efectos colaterales.\n",
    "* Procesan información sin cambiar de estado."
   ]
  },
  {
   "cell_type": "markdown",
   "metadata": {
    "slideshow": {
     "slide_type": "subslide"
    }
   },
   "source": [
    "### Funciones lambda.\n",
    "\n",
    "También conocidas como funciones anónimas. Son funciones que se definen en una sola expresión."
   ]
  },
  {
   "cell_type": "markdown",
   "metadata": {
    "slideshow": {
     "slide_type": "slide"
    }
   },
   "source": [
    "## El framework serverless.\n",
    "\n",
    "A partir del concepto de \"Funciones como servicio\" (*FaaS*) ha surgido el *Framework Serverless*."
   ]
  },
  {
   "cell_type": "markdown",
   "metadata": {
    "slideshow": {
     "slide_type": "subslide"
    }
   },
   "source": [
    "El *Framework Serverless* tiene por objeto garantizar servicios:\n",
    "\n",
    "* Autogestionados.\n",
    "* Autoescalables.\n",
    "* Con tarifas en función del uso.* \n",
    "* De desarrollo y despliege rápido.\n",
    "* Automatizados."
   ]
  },
  {
   "cell_type": "markdown",
   "metadata": {
    "slideshow": {
     "slide_type": "slide"
    }
   },
   "source": [
    "## Servicios/agentes sin estado.\n",
    "\n",
    "Los servicios sin estado son una especie de función pura.\n",
    "Reciben un mensaje, lo procesan y en su caso, envían un nuevo mensaje a partir del proceso.\n",
    "Estos servicios no dependen del estado del sistema completo.\n",
    "Pueden recibir mensajes en un orden aleatorio.\n",
    "En caso de fallo, el servicio se reinicia."
   ]
  },
  {
   "cell_type": "markdown",
   "metadata": {
    "slideshow": {
     "slide_type": "slide"
    }
   },
   "source": [
    "## Enfilado y dispersión de mensajes.\n",
    "\n",
    "En vista de que los servicios sin estado no tienen control del flujo de los datos que recibe y regresa, en necesario contar con un sistema capaz de controlar el flujo de la información."
   ]
  },
  {
   "cell_type": "markdown",
   "metadata": {
    "slideshow": {
     "slide_type": "subslide"
    }
   },
   "source": [
    "Los sistemas de enfilado de mensajes (Message Queuing) son los encargados de hacer que el flujo de datos sea orquestado adecuadamente entre los servicios/agentes."
   ]
  },
  {
   "cell_type": "markdown",
   "metadata": {
    "slideshow": {
     "slide_type": "subslide"
    }
   },
   "source": [
    "### El protocolo AMQP.\n",
    "\n",
    "El protcolo avanzado para enfilado de mensajes [*AMQP*](http://www.amqp.org/) corresponde al estándar *ISO/IEC 19464*, el cual describe y especifica el modo en el que se puede realizar la interoperabilidad entre los mensajes y el middleware."
   ]
  },
  {
   "cell_type": "markdown",
   "metadata": {
    "slideshow": {
     "slide_type": "subslide"
    }
   },
   "source": [
    "Algunos sistemas de enfilado de mensajes son:\n",
    "\n",
    "* [*RabbitMQ*](http://www.rabbitmq.com/).\n",
    "* [*ZeroMQ*](http://zeromq.org/).\n",
    "* [*Akka*](https://akka.io/).\n",
    "* [*Apache Kafka*](https://kafka.apache.org/)."
   ]
  },
  {
   "cell_type": "markdown",
   "metadata": {
    "slideshow": {
     "slide_type": "slide"
    }
   },
   "source": [
    "## Microservicios.\n",
    "\n",
    "Es una arquitectura orientada a servicios (*SOA*) propuesta por Martin Fowler, la cual permite generar pequeños servidores altamente especializados cuyas funcionalidades son expuestas mediante una *API*."
   ]
  },
  {
   "cell_type": "markdown",
   "metadata": {
    "slideshow": {
     "slide_type": "subslide"
    }
   },
   "source": [
    "La naturaleza de los microservicios les confieren las siguientes características:\n",
    "\n",
    "* Modulares.\n",
    "* Intercambiables.\n",
    "* Sin estado.\n",
    "* Interoperables.\n",
    "* Ligeros.\n",
    "\n",
    "Estas características los hacen muy compatibles con los contenedores."
   ]
  },
  {
   "cell_type": "markdown",
   "metadata": {
    "slideshow": {
     "slide_type": "subslide"
    }
   },
   "source": [
    "<p style=\"text-align: center\"><a rel=\"license\" href=\"http://creativecommons.org/licenses/by/4.0/\"><img alt=\"Licencia Creative Commons\" style=\"border-width:0\" src=\"https://i.creativecommons.org/l/by/4.0/80x15.png\" /></a><br />Esta obra está bajo una <a rel=\"license\" href=\"http://creativecommons.org/licenses/by/4.0/\">Licencia Creative Commons Atribución 4.0 Internacional</a>.</p>\n",
    "<p style=\"text-align: center\">&copy; José Luis Chiquete Valdivieso. 2022.</p>"
   ]
  }
 ],
 "metadata": {
  "celltoolbar": "Slideshow",
  "kernelspec": {
   "display_name": "Python 3 (ipykernel)",
   "language": "python",
   "name": "python3"
  },
  "language_info": {
   "codemirror_mode": {
    "name": "ipython",
    "version": 3
   },
   "file_extension": ".py",
   "mimetype": "text/x-python",
   "name": "python",
   "nbconvert_exporter": "python",
   "pygments_lexer": "ipython3",
   "version": "3.9.7"
  }
 },
 "nbformat": 4,
 "nbformat_minor": 2
}
