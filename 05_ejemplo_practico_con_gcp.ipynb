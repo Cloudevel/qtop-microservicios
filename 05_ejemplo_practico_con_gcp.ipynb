{
 "cells": [
  {
   "cell_type": "markdown",
   "metadata": {},
   "source": [
    "## Proyecto muestra."
   ]
  },
  {
   "cell_type": "markdown",
   "metadata": {},
   "source": [
    "https://github.com/GoogleCloudPlatform/microservices-demo"
   ]
  },
  {
   "cell_type": "markdown",
   "metadata": {},
   "source": [
    "### Arquitectura.\n",
    "\n",
    "https://github.com/GoogleCloudPlatform/microservices-demo#architecture"
   ]
  },
  {
   "cell_type": "markdown",
   "metadata": {},
   "source": [
    "## *Service mesh*."
   ]
  },
  {
   "cell_type": "markdown",
   "metadata": {},
   "source": [
    "Un *service mesh*, es una capa dentro de la infraestructura de una aplicación de microservicios que hace que la comunicación entre servicios sea flexible, confiable y rápida. Proporciona descubrimiento de servicios, equilibrio de carga, cifrado, autenticación y autorización, soporte para el patrón de interruptor de circuito (*circuit-breaker*) entre otras capacidades.\n",
    "\n",
    "* Disponibilidad en la comunicación entre servicios.: patrones de *Circuit-breaking*, reintentos y *timeouts*, gestión de errores, balanceo de carga y *failover*…\n",
    "* Descubrimiento de servicios: descubrimiento de los *endpoints* del servicio a través de un registro de servicio dedicado.\n",
    "* Enrutamiento: enrutamiento de peticiones a versiones diferentes de servicios.\n",
    "* Observabilidad: métricas, monitorización, bitácoras y trazabilidad distribuidas.\n",
    "* Seguridad: seguridad a nivel de transporte (*TLS*) y gestión de claves.\n",
    "* Autenticación/Autorización.\n",
    "* Despliegue: soporte nativo para contenedores (*Docker*, *Kubernetes*).\n",
    "* Protocolos de comunicación entre servicios: *HTTP/1.1*, *HTTP/2*, *gRPC*."
   ]
  },
  {
   "cell_type": "markdown",
   "metadata": {},
   "source": [
    "## Validar la configuración."
   ]
  },
  {
   "cell_type": "code",
   "execution_count": null,
   "metadata": {
    "scrolled": true
   },
   "outputs": [],
   "source": [
    "gcloud config list"
   ]
  },
  {
   "cell_type": "code",
   "execution_count": null,
   "metadata": {
    "scrolled": true
   },
   "outputs": [],
   "source": [
    "gcloud services list | grep container"
   ]
  },
  {
   "cell_type": "code",
   "execution_count": null,
   "metadata": {
    "scrolled": false
   },
   "outputs": [],
   "source": [
    "gcloud config get project"
   ]
  },
  {
   "cell_type": "code",
   "execution_count": null,
   "metadata": {},
   "outputs": [],
   "source": [
    "PROJECT_ID=\"capacitacion-332701\""
   ]
  },
  {
   "cell_type": "code",
   "execution_count": null,
   "metadata": {},
   "outputs": [],
   "source": [
    "REGION=us-central1"
   ]
  },
  {
   "cell_type": "code",
   "execution_count": null,
   "metadata": {},
   "outputs": [],
   "source": [
    "ZONE=us-central1-c"
   ]
  },
  {
   "cell_type": "markdown",
   "metadata": {},
   "source": [
    "## *Google Kubernetes Engine* (*GKE*)."
   ]
  },
  {
   "cell_type": "markdown",
   "metadata": {},
   "source": [
    "https://cloud.google.com/kubernetes-engine/docs/concepts/kubernetes-engine-overview"
   ]
  },
  {
   "cell_type": "markdown",
   "metadata": {},
   "source": [
    "### Autopilot.\n",
    "\n",
    "https://cloud.google.com/kubernetes-engine/docs/concepts/autopilot-overview"
   ]
  },
  {
   "cell_type": "markdown",
   "metadata": {},
   "source": [
    "## Habilitación de la *API* de *GKE*."
   ]
  },
  {
   "cell_type": "code",
   "execution_count": null,
   "metadata": {},
   "outputs": [],
   "source": [
    "gcloud services enable container.googleapis.com --project ${PROJECT_ID}\n",
    "gcloud services enable monitoring.googleapis.com \\\n",
    "    cloudtrace.googleapis.com \\\n",
    "    clouddebugger.googleapis.com \\\n",
    "    cloudprofiler.googleapis.com \\\n",
    "    --project ${PROJECT_ID}"
   ]
  },
  {
   "cell_type": "markdown",
   "metadata": {},
   "source": [
    "## Clonado del proyecto."
   ]
  },
  {
   "cell_type": "code",
   "execution_count": 1,
   "metadata": {},
   "outputs": [
    {
     "name": "stdout",
     "output_type": "stream",
     "text": [
      "Clonando en 'microservices-demo'...\n",
      "remote: Enumerating objects: 5025, done.\u001b[K\n",
      "remote: Total 5025 (delta 0), reused 0 (delta 0), pack-reused 5025\u001b[K\n",
      "Recibiendo objetos: 100% (5025/5025), 29.05 MiB | 6.29 MiB/s, listo.\n",
      "Resolviendo deltas: 100% (3395/3395), listo.\n",
      "\u001b[?2004h\u001b[?2004l"
     ]
    },
    {
     "ename": "",
     "evalue": "1",
     "output_type": "error",
     "traceback": []
    }
   ],
   "source": [
    "git clone https://github.com/GoogleCloudPlatform/microservices-demo.git\n",
    "cd microservices-demo"
   ]
  },
  {
   "cell_type": "code",
   "execution_count": 2,
   "metadata": {},
   "outputs": [
    {
     "name": "stdout",
     "output_type": "stream",
     "text": [
      "\u001b[01;34m.\u001b[00m\n",
      "├── cloudbuild.yaml\n",
      "├── CODE_OF_CONDUCT.md\n",
      "├── CODEOWNERS\n",
      "├── CONTRIBUTING.md\n",
      "├── \u001b[01;34mdocs\u001b[00m\n",
      "│   ├── cloudshell-tutorial.md\n",
      "│   ├── cymbal-shops.md\n",
      "│   ├── development-guide.md\n",
      "│   ├── development-principles.md\n",
      "│   ├── gcp-instrumentation.md\n",
      "│   ├── \u001b[01;34mimg\u001b[00m\n",
      "│   ├── memorystore.md\n",
      "│   ├── \u001b[01;34mnetwork-policies\u001b[00m\n",
      "│   ├── service-mesh.md\n",
      "│   └── workload-identity.md\n",
      "├── \u001b[01;34mhack\u001b[00m\n",
      "│   ├── license_header.txt\n",
      "│   ├── \u001b[01;32mmake-docker-images.sh\u001b[00m\n",
      "│   ├── \u001b[01;32mmake-release-artifacts.sh\u001b[00m\n",
      "│   ├── \u001b[01;32mmake-release.sh\u001b[00m\n",
      "│   └── \u001b[01;32mREADME.md\u001b[00m\n",
      "├── \u001b[01;34mistio-manifests\u001b[00m\n",
      "│   ├── allow-egress-googleapis.yaml\n",
      "│   ├── frontend-gateway.yaml\n",
      "│   └── frontend.yaml\n",
      "├── \u001b[01;34mkubernetes-manifests\u001b[00m\n",
      "│   ├── adservice.yaml\n",
      "│   ├── cartservice.yaml\n",
      "│   ├── checkoutservice.yaml\n",
      "│   ├── currencyservice.yaml\n",
      "│   ├── emailservice.yaml\n",
      "│   ├── frontend.yaml\n",
      "│   ├── loadgenerator.yaml\n",
      "│   ├── paymentservice.yaml\n",
      "│   ├── productcatalogservice.yaml\n",
      "│   ├── README.md\n",
      "│   ├── recommendationservice.yaml\n",
      "│   ├── redis.yaml\n",
      "│   └── shippingservice.yaml\n",
      "├── LICENSE\n",
      "├── \u001b[01;34mpb\u001b[00m\n",
      "│   ├── demo.proto\n",
      "│   └── \u001b[01;34mgrpc\u001b[00m\n",
      "├── README.md\n",
      "├── \u001b[01;34mrelease\u001b[00m\n",
      "│   ├── istio-manifests.yaml\n",
      "│   └── kubernetes-manifests.yaml\n",
      "├── renovate.json\n",
      "├── SECURITY.md\n",
      "├── skaffold.yaml\n",
      "└── \u001b[01;34msrc\u001b[00m\n",
      "    ├── \u001b[01;34madservice\u001b[00m\n",
      "    ├── \u001b[01;34mcartservice\u001b[00m\n",
      "    ├── \u001b[01;34mcheckoutservice\u001b[00m\n",
      "    ├── \u001b[01;34mcurrencyservice\u001b[00m\n",
      "    ├── \u001b[01;34memailservice\u001b[00m\n",
      "    ├── \u001b[01;34mfrontend\u001b[00m\n",
      "    ├── \u001b[01;34mloadgenerator\u001b[00m\n",
      "    ├── \u001b[01;34mpaymentservice\u001b[00m\n",
      "    ├── \u001b[01;34mproductcatalogservice\u001b[00m\n",
      "    ├── \u001b[01;34mrecommendationservice\u001b[00m\n",
      "    └── \u001b[01;34mshippingservice\u001b[00m\n",
      "\n",
      "21 directories, 41 files\n",
      "\u001b[?2004h"
     ]
    },
    {
     "ename": "",
     "evalue": "1",
     "output_type": "error",
     "traceback": []
    }
   ],
   "source": [
    "tree . -L 2"
   ]
  },
  {
   "cell_type": "markdown",
   "metadata": {},
   "source": [
    "## El código fuente de los microservicios."
   ]
  },
  {
   "cell_type": "code",
   "execution_count": null,
   "metadata": {
    "scrolled": true
   },
   "outputs": [],
   "source": [
    "tree ./src -L 3"
   ]
  },
  {
   "cell_type": "markdown",
   "metadata": {},
   "source": [
    "## Creación del cluster."
   ]
  },
  {
   "cell_type": "code",
   "execution_count": null,
   "metadata": {
    "scrolled": true
   },
   "outputs": [],
   "source": [
    "gcloud container clusters create onlineboutique \\\n",
    "    --project=${PROJECT_ID} --zone=${ZONE} \\\n",
    "    --machine-type=e2-standard-2 --num-nodes=4"
   ]
  },
  {
   "cell_type": "markdown",
   "metadata": {},
   "source": [
    "## Despliegue."
   ]
  },
  {
   "cell_type": "code",
   "execution_count": null,
   "metadata": {},
   "outputs": [],
   "source": [
    "kubectl apply -f ./release/kubernetes-manifests.yaml"
   ]
  },
  {
   "cell_type": "code",
   "execution_count": null,
   "metadata": {},
   "outputs": [],
   "source": [
    "kubectl get pods"
   ]
  },
  {
   "cell_type": "markdown",
   "metadata": {},
   "source": [
    "## Acceso."
   ]
  },
  {
   "cell_type": "code",
   "execution_count": null,
   "metadata": {},
   "outputs": [],
   "source": [
    "kubectl get service frontend-external | awk '{print $4}'"
   ]
  },
  {
   "cell_type": "markdown",
   "metadata": {},
   "source": [
    "## Cierre."
   ]
  },
  {
   "cell_type": "code",
   "execution_count": null,
   "metadata": {},
   "outputs": [],
   "source": [
    "gcloud container clusters delete onlineboutique \\\n",
    "    --project=${PROJECT_ID} --zone=${ZONE}"
   ]
  },
  {
   "cell_type": "markdown",
   "metadata": {},
   "source": [
    "<p style=\"text-align: center\"><a rel=\"license\" href=\"http://creativecommons.org/licenses/by/4.0/\"><img alt=\"Licencia Creative Commons\" style=\"border-width:0\" src=\"https://i.creativecommons.org/l/by/4.0/80x15.png\" /></a><br />Esta obra está bajo una <a rel=\"license\" href=\"http://creativecommons.org/licenses/by/4.0/\">Licencia Creative Commons Atribución 4.0 Internacional</a>.</p>\n",
    "<p style=\"text-align: center\">&copy; José Luis Chiquete Valdivieso. 2022.</p>"
   ]
  }
 ],
 "metadata": {
  "kernelspec": {
   "display_name": "Bash",
   "language": "bash",
   "name": "bash"
  },
  "language_info": {
   "codemirror_mode": "shell",
   "file_extension": ".sh",
   "mimetype": "text/x-sh",
   "name": "bash"
  }
 },
 "nbformat": 4,
 "nbformat_minor": 2
}
