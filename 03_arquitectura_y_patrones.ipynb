{
 "cells": [
  {
   "cell_type": "markdown",
   "metadata": {},
   "source": [
    "# Patrones de microservicios."
   ]
  },
  {
   "cell_type": "markdown",
   "metadata": {},
   "source": [
    "## Ventajas y desventajas de los microservicios.\n",
    "\n",
    "Fuente: https://www.manning.com/books/microservices-patterns"
   ]
  },
  {
   "cell_type": "markdown",
   "metadata": {},
   "source": [
    "### Ventajas.\n",
    "\n",
    "* Permite la entrega continua y despliegue de aplicaciones grandes y complejas.\n",
    "* Los servicios son pequeños y de fácil mantenimiento.\n",
    "* Los servicios pueden ser desplegados de forma independiente.\n",
    "* Los servicios escalan de forma independiente.\n",
    "* La arquitectura de microservicios permite organizar equipos autónomos.\n",
    "* Facilita la experimentación y adopción de nuevas tecnologías.\n",
    "* Cuenta con mejor aislamiento en caso de fallas."
   ]
  },
  {
   "cell_type": "markdown",
   "metadata": {},
   "source": [
    "### Desventajas.\n",
    "\n",
    "* Encontrar el servicio correcto es complicado.\n",
    "* Los sistemas distribuidos son complejos, lo que hace el desarrollo, pruebas y despliegue, difícil.\n",
    "* Desplegar funcionalidades que implican a varios servicios requiere de una coordinación cuidadosa.\n",
    "* Decidir cuándo adoptar la arquitectura de microservicios es difícil."
   ]
  },
  {
   "cell_type": "markdown",
   "metadata": {},
   "source": [
    "## Los 6 patrones de microservicios más populares.\n",
    "\n",
    "Fuente: https://www.mulesoft.com/lp/whitepaper/api/top-microservices-patterns"
   ]
  },
  {
   "cell_type": "markdown",
   "metadata": {},
   "source": [
    "### 1. *SOA* bien atomizado.\n",
    "\n",
    "Este patron aplica los mismos principios de la Arquitectrura Orientada a Servicios (*SOA*), pero reduce los incidentes fragmentando la infraestructura en piezas granulares."
   ]
  },
  {
   "cell_type": "markdown",
   "metadata": {},
   "source": [
    "#### Características:\n",
    "\n",
    "* Trabaja bien en pequeña escala.\n",
    "* Centrado en la integración con cada microservicio dependiendo de sistemas externos.\n",
    "* Se enfoca en servicios pequeños.\n",
    "* Adolece de alta velocidad de cambio debido a la intercomunicación entre procesos.\n",
    "* La consistencia de los datos es pobre debido a que no hay gestión del estado del sistema\n",
    "* Los sistemas de gestión existentes no pueden manejar el número crecientre de servicios."
   ]
  },
  {
   "cell_type": "markdown",
   "metadata": {},
   "source": [
    "### 2. Capas de *APIs* sobre *SOA* atomizados.\n",
    "\n",
    "* Las *APIs* del sistema (*SAPI*) exponen a las aplicaciones. \n",
    "* Las *APIs* de proceso (*PAPI*) orquestan las aplicaciones.\n",
    "* Las *APIs* de experiencia de usuario (*UXAPI*) proveen la experiencia de usuario."
   ]
  },
  {
   "cell_type": "markdown",
   "metadata": {},
   "source": [
    "#### Características:\n",
    "\n",
    "* Funcionan bien a pequeña escala.\n",
    "* Incrementan la flexibilidad mientras separan la estructura de la arquitectura en ámbitos separados.\n",
    "* Es necesario hacer múltiples llamadas entre capas.\n",
    "* Las herramientas de gestión convencionales no son capaces de visualizar vistas de microservicios complejos.\n",
    "* La consistencia de los datos mejora.\n",
    "* Son necesarias tecnologías adicionales como un *service mesh* o un *API Gateway* para gestionar y asegurar a todos los elementos.\n",
    "* La velocidad de cambio es reducida debido a que cada microservicio del sistema depende de sistemas externos.\n",
    "* Carece de capacidades de gestión del estado del sistema.\n",
    "* Permite reutilizadción en lato grado.\n",
    "* Alta coherencia debido a una arquitecura estructurada."
   ]
  },
  {
   "cell_type": "markdown",
   "metadata": {},
   "source": [
    "### 3. Gestión de estado del sistema  orientada a mensajes sobre capas de *APIs*.\n",
    "\n",
    "Este patrón garantiza la integridad del sistema replicando el estado de los datos críticos de negocio entre microservicios o *datastores*. \n",
    "\n",
    "Lo anterior habilita a los sistemas a actuar ante eventos y proveen una visibilidad externa usando colas de mensajes, permitiendo que el estado sea enviado asíncronamente a diferentes sitios o consumido por otros microservicios. \n",
    "\n",
    "Al desacoplar los componentes,la implementación y el comportamiento se vuelven opacos."
   ]
  },
  {
   "cell_type": "markdown",
   "metadata": {},
   "source": [
    "#### Características:\n",
    "\n",
    "* Aumenta la complejidad debido a las capacidades de gestión del estado del sistema.\n",
    "* Las implementaciones pueden ser incosistentes y difíciles de reutilizar debido a que no existe un patrón estándar.\n",
    "* Falta de soluciones en el caso de conflictos con los datos o reconstrucción del estado a causa de fallos o caídas del sistema.\n",
    "* Comunicación eficiente entre procesos debido a la asincronía.\n",
    "* La consistencia de los datos y la gestión del estado del sistema son impactadas por la impredecibilidad del comportamiento  y los efectos potenciales de algún mensaje.\n",
    "* Encolado a nivel básico, pero se requieren estándares sobre lo que es enviado.\n",
    "* Funciona bien a gran escala, pero puede volverse impredecible operacionalmente.\n",
    "* Hay poca coherencia debido a la falta de estándares de diseño."
   ]
  },
  {
   "cell_type": "markdown",
   "metadata": {},
   "source": [
    "### 4. Gestión de estado del sistema  orientada a eventos sobre capas de *APIs*."
   ]
  },
  {
   "cell_type": "markdown",
   "metadata": {},
   "source": [
    "Los patrones dirigidos por eventos para la actualización de datos en tiempo real son críticos pasa casos de uso de detección de fraudes, notificación de flujos de trabajo, servicios de notificaciones, etc.\n",
    "\n",
    "Las arquitecturas dirigidas por eventos hacen uso de encolados pero cuentan con estándares tanto para el comportamiento como  para el diseño que deben de ser garantizados para poder atender un evento.\n",
    "\n",
    "Un evento es una acción asociada a una representación de un estado y una estampa de tiempo. Los eventos permiten a los servicios recibirlos y reconstruir una vista del estado recreando el orden de los eventos."
   ]
  },
  {
   "cell_type": "markdown",
   "metadata": {},
   "source": [
    "#### Características.\n",
    "\n",
    "* Aumenta la compejidad al ser capaz de gestionar estados.\n",
    "* La implementación puede ser inconsistente al no existir patrones estándar.\n",
    "* Falta de soluciones en el caso de conflictos con los datos o reconstrucción del estado a causa de fallos o caídas del sistema.\n",
    "* Comunicación eficiente entre procesos debido a la asincronía.\n",
    "* La flexibilidad del diseño es sacrificada a favor de un comportamiento predecible.\n",
    "* La consistencia de los datos del estado del sistema es mejorada debido a que existe un modelo de consistencia.\n",
    "* Puede complicarse cuando los eventos son confundidos con comandos.\n",
    "* Modelo de escalado efectivo con monitoreo razonable de la operación.\n",
    "* Fuerte coherencia cuando se aplica consistentemente, pero puede diluirse con el tiempo."
   ]
  },
  {
   "cell_type": "markdown",
   "metadata": {},
   "source": [
    "### 5. Estados aislados en capas de *APIs*.\n",
    "\n",
    "Cada microservicio se vuelve una sola *fuente de verdad* conteniendo una *datastore* interna que se sincroniza constantemente con las *datastores* del sistema ya sean mediante una bitácora o un elemento del sistema."
   ]
  },
  {
   "cell_type": "markdown",
   "metadata": {},
   "source": [
    "#### Características:\n",
    "\n",
    "* Arquitectura fácil de usar debido a su naturaleza estandarizada.\n",
    "* Requiere de alguna gobernanza para garantizar que los datos no sean copiados u que sean accedidos de forma impropia.\n",
    "* Puede ser difícil de implementar cuando existen elementos monolítcos.\n",
    "* No es fácil regresar a un estado anterior si los datos de las entidades se desincronizan.\n",
    "* El reuso no es una prioridad.\n",
    "* El diseño flexible incrementa la velocidad del cambio.\n",
    "* La escalabilidad podría ser complicada debido a la escalabilidad del almacenamiento.\n",
    "* Es dificil dividir un modelo de datos escalable en piezas independientes."
   ]
  },
  {
   "cell_type": "markdown",
   "metadata": {},
   "source": [
    "### 6. Replicación de estado en capas de *APIs*.\n",
    "\n",
    "Replicar el estado de un sistema requiere de un profundo entendimiento del proceso de gestión y el comportamiento de cada servicio para que sea predecible. Este diseño puede ser consistente eventualmente."
   ]
  },
  {
   "cell_type": "markdown",
   "metadata": {},
   "source": [
    "#### Características.\n",
    "\n",
    "* Crea una arquitectura coherente.\n",
    "* Extremadamente escalable debido a la separación entre las peticiones de consulta-comando.\n",
    "* Coexiste con procesamiento de eventos.\n",
    "* Comunicación eficiente entre procesos debido a la asicronía.\n",
    "* El diseño flexible incrementa la velocidad de cambio.\n",
    "* La consistencia de datos es moderada, pero alcanza una sola \"fuente de verdad\".\n",
    "* La escalabilidad es efectiva en vista de que cada pieza puede escalar independientemente."
   ]
  },
  {
   "cell_type": "markdown",
   "metadata": {},
   "source": [
    "<p style=\"text-align: center\"><a rel=\"license\" href=\"http://creativecommons.org/licenses/by/4.0/\"><img alt=\"Licencia Creative Commons\" style=\"border-width:0\" src=\"https://i.creativecommons.org/l/by/4.0/80x15.png\" /></a><br />Esta obra está bajo una <a rel=\"license\" href=\"http://creativecommons.org/licenses/by/4.0/\">Licencia Creative Commons Atribución 4.0 Internacional</a>.</p>\n",
    "<p style=\"text-align: center\">&copy; José Luis Chiquete Valdivieso. 2022.</p>"
   ]
  }
 ],
 "metadata": {
  "kernelspec": {
   "display_name": "Python 3 (ipykernel)",
   "language": "python",
   "name": "python3"
  },
  "language_info": {
   "codemirror_mode": {
    "name": "ipython",
    "version": 3
   },
   "file_extension": ".py",
   "mimetype": "text/x-python",
   "name": "python",
   "nbconvert_exporter": "python",
   "pygments_lexer": "ipython3",
   "version": "3.9.7"
  }
 },
 "nbformat": 4,
 "nbformat_minor": 2
}
